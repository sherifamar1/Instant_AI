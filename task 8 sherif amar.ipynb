{
 "cells": [
  {
   "cell_type": "code",
   "execution_count": 1,
   "id": "c2332e50",
   "metadata": {},
   "outputs": [
    {
     "name": "stdout",
     "output_type": "stream",
     "text": [
      "\n",
      "\n",
      "\n",
      "\n",
      "\n",
      " Sherif mahamed mahmoud amar 01020200557 sherifamar2468@gmail.com\n",
      " amar mohamed ali 01055884715 amarali010@gmail.com\n",
      " saad alaa saad 01025478967    saadalaa@gmail.com\n",
      " kareem ahmed ali 01047569825  kareeem@gmail.com\n",
      " hassan saad ali  01056378549  hassan@gmail.com\n",
      " ahmed mohamed ghazy 01023568749 ahmedghazy@gmail.com\n"
     ]
    }
   ],
   "source": [
    "with open('name.txt') as f:\n",
    "    contents = f.read()\n",
    "    print(contents)"
   ]
  },
  {
   "cell_type": "code",
   "execution_count": 5,
   "id": "eb50dad4",
   "metadata": {},
   "outputs": [],
   "source": [
    "import re"
   ]
  },
  {
   "cell_type": "code",
   "execution_count": 7,
   "id": "024ded1b",
   "metadata": {},
   "outputs": [
    {
     "ename": "NameError",
     "evalue": "name 'contents' is not defined",
     "output_type": "error",
     "traceback": [
      "\u001b[1;31m---------------------------------------------------------------------------\u001b[0m",
      "\u001b[1;31mNameError\u001b[0m                                 Traceback (most recent call last)",
      "Cell \u001b[1;32mIn[7], line 2\u001b[0m\n\u001b[0;32m      1\u001b[0m pattern\u001b[38;5;241m=\u001b[39mre\u001b[38;5;241m.\u001b[39mcompile(\u001b[38;5;124m\"\u001b[39m\u001b[38;5;124m[a-zA-Z]+\u001b[39m\u001b[38;5;124m\\\u001b[39m\u001b[38;5;124ms[a-z]+\u001b[39m\u001b[38;5;124m\\\u001b[39m\u001b[38;5;124ms[a-z]+\u001b[39m\u001b[38;5;124m\"\u001b[39m)\n\u001b[1;32m----> 2\u001b[0m matches\u001b[38;5;241m=\u001b[39mpattern\u001b[38;5;241m.\u001b[39mfinditer(contents)\n\u001b[0;32m      3\u001b[0m name\u001b[38;5;241m=\u001b[39m\u001b[38;5;28mlist\u001b[39m()\n\u001b[0;32m      4\u001b[0m \u001b[38;5;28;01mfor\u001b[39;00m match \u001b[38;5;129;01min\u001b[39;00m matches:\n",
      "\u001b[1;31mNameError\u001b[0m: name 'contents' is not defined"
     ]
    }
   ],
   "source": [
    "pattern=re.compile(\"[a-zA-Z]+\\s[a-z]+\\s[a-z]+\")\n",
    "matches=pattern.finditer(contents)\n",
    "name=list()\n",
    "for match in matches:\n",
    "    start=match.span()[0]\n",
    "    end=match.span()[1]\n",
    "    name.append(contents[start:end])\n",
    "print(name)"
   ]
  },
  {
   "cell_type": "code",
   "execution_count": 3,
   "id": "0b99aef5",
   "metadata": {},
   "outputs": [
    {
     "ename": "NameError",
     "evalue": "name 're' is not defined",
     "output_type": "error",
     "traceback": [
      "\u001b[1;31m---------------------------------------------------------------------------\u001b[0m",
      "\u001b[1;31mNameError\u001b[0m                                 Traceback (most recent call last)",
      "Cell \u001b[1;32mIn[3], line 1\u001b[0m\n\u001b[1;32m----> 1\u001b[0m pattern\u001b[38;5;241m=\u001b[39mre\u001b[38;5;241m.\u001b[39mcompile(\u001b[38;5;124m\"\u001b[39m\u001b[38;5;124m\\\u001b[39m\u001b[38;5;124md\u001b[39m\u001b[38;5;132;01m{11}\u001b[39;00m\u001b[38;5;124m\"\u001b[39m)\n\u001b[0;32m      2\u001b[0m matches\u001b[38;5;241m=\u001b[39mpattern\u001b[38;5;241m.\u001b[39mfinditer(contents)\n\u001b[0;32m      3\u001b[0m number\u001b[38;5;241m=\u001b[39m\u001b[38;5;28mlist\u001b[39m()\n",
      "\u001b[1;31mNameError\u001b[0m: name 're' is not defined"
     ]
    }
   ],
   "source": [
    "pattern=re.compile(\"\\d{11}\")\n",
    "matches=pattern.finditer(contents)\n",
    "number=list()\n",
    "for match in matches:\n",
    "    start=match.span()[0]\n",
    "    end=match.span()[1]\n",
    "    number.append(contents[start:end])\n",
    "print(number)"
   ]
  },
  {
   "cell_type": "code",
   "execution_count": 4,
   "id": "668afa83",
   "metadata": {},
   "outputs": [
    {
     "ename": "NameError",
     "evalue": "name 're' is not defined",
     "output_type": "error",
     "traceback": [
      "\u001b[1;31m---------------------------------------------------------------------------\u001b[0m",
      "\u001b[1;31mNameError\u001b[0m                                 Traceback (most recent call last)",
      "Cell \u001b[1;32mIn[4], line 1\u001b[0m\n\u001b[1;32m----> 1\u001b[0m pattern\u001b[38;5;241m=\u001b[39mre\u001b[38;5;241m.\u001b[39mcompile(\u001b[38;5;124m\"\u001b[39m\u001b[38;5;124m[a-zA-Z]+@[a-zA-Z]+\u001b[39m\u001b[38;5;124m\\\u001b[39m\u001b[38;5;124m.com\u001b[39m\u001b[38;5;124m\"\u001b[39m)\n\u001b[0;32m      2\u001b[0m matches\u001b[38;5;241m=\u001b[39mpattern\u001b[38;5;241m.\u001b[39mfinditer(contents)\n\u001b[0;32m      3\u001b[0m mails\u001b[38;5;241m=\u001b[39m\u001b[38;5;28mlist\u001b[39m()\n",
      "\u001b[1;31mNameError\u001b[0m: name 're' is not defined"
     ]
    }
   ],
   "source": [
    "pattern=re.compile(\"[a-zA-Z]+@[a-zA-Z]+\\.com\")\n",
    "matches=pattern.finditer(contents)\n",
    "mails=list()\n",
    "for match in matches:\n",
    "    start=match.span()[0]\n",
    "    end=match.span()[1]\n",
    "    mails.append(contents[start:end])\n",
    "print(mails)"
   ]
  },
  {
   "cell_type": "code",
   "execution_count": null,
   "id": "7fc267bb",
   "metadata": {},
   "outputs": [],
   "source": []
  },
  {
   "cell_type": "code",
   "execution_count": null,
   "id": "dfae90a1",
   "metadata": {},
   "outputs": [],
   "source": []
  },
  {
   "cell_type": "code",
   "execution_count": null,
   "id": "0fc7989b",
   "metadata": {},
   "outputs": [],
   "source": []
  },
  {
   "cell_type": "code",
   "execution_count": null,
   "id": "959202d8",
   "metadata": {},
   "outputs": [],
   "source": []
  },
  {
   "cell_type": "code",
   "execution_count": null,
   "id": "891360c9",
   "metadata": {},
   "outputs": [],
   "source": []
  },
  {
   "cell_type": "code",
   "execution_count": null,
   "id": "f050bb41",
   "metadata": {},
   "outputs": [],
   "source": []
  },
  {
   "cell_type": "code",
   "execution_count": null,
   "id": "c4283315",
   "metadata": {},
   "outputs": [],
   "source": []
  },
  {
   "cell_type": "code",
   "execution_count": null,
   "id": "96481967",
   "metadata": {},
   "outputs": [],
   "source": []
  },
  {
   "cell_type": "code",
   "execution_count": null,
   "id": "e3ce1ca3",
   "metadata": {},
   "outputs": [],
   "source": []
  }
 ],
 "metadata": {
  "kernelspec": {
   "display_name": "Python 3 (ipykernel)",
   "language": "python",
   "name": "python3"
  },
  "language_info": {
   "codemirror_mode": {
    "name": "ipython",
    "version": 3
   },
   "file_extension": ".py",
   "mimetype": "text/x-python",
   "name": "python",
   "nbconvert_exporter": "python",
   "pygments_lexer": "ipython3",
   "version": "3.11.3"
  }
 },
 "nbformat": 4,
 "nbformat_minor": 5
}
