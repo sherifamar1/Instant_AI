{
 "cells": [
  {
   "cell_type": "markdown",
   "id": "759d04ba",
   "metadata": {},
   "source": [
    "**1-Write a Python program to calculate the length of a string using 2 ways"
   ]
  },
  {
   "cell_type": "markdown",
   "id": "e1fcbacc",
   "metadata": {},
   "source": []
  },
  {
   "cell_type": "markdown",
   "id": "9c474b1c",
   "metadata": {},
   "source": []
  },
  {
   "cell_type": "code",
   "execution_count": null,
   "id": "e434c950",
   "metadata": {},
   "outputs": [],
   "source": [
    "x = input(\"Enter a str: \")\n",
    "\n",
    "counter = 0 \n",
    "\n",
    "for i in x:\n",
    "      counter = counter+1\n",
    "print(\"Length=  \", counter)"
   ]
  },
  {
   "cell_type": "code",
   "execution_count": null,
   "id": "47b604e6",
   "metadata": {},
   "outputs": [],
   "source": [
    "x = input(\"Enter a str: \")\n",
    "print(\"Length=\", len(x))\n",
    "\n",
    "\n"
   ]
  },
  {
   "cell_type": "markdown",
   "id": "a2430ec0",
   "metadata": {},
   "source": [
    "**2-Write a Python program to get a string made of the first 2 and last 2 characters of a given string. If the string length is less than 2, return the empty string instead (\"##Sample String : 'w3resource'\n",
    "Expected Result : 'w3ce'\n",
    "##Sample String : 'w3'\n",
    "Expected Result : 'w3w3'\n",
    "##Sample String : ' w'\n",
    "Expected Result : Empty String)"
   ]
  },
  {
   "cell_type": "code",
   "execution_count": null,
   "id": "dafa9dd8",
   "metadata": {},
   "outputs": [],
   "source": [
    " name= input()\n",
    "if len(name) <2 :\n",
    "    print(name)\n",
    "else:\n",
    "    print(name[0:2] + name[-2: ])\n",
    "    \n",
    "    "
   ]
  },
  {
   "cell_type": "markdown",
   "id": "1534f956",
   "metadata": {},
   "source": [
    "**3-Write a Python program to add 'ing' at the end of a given string (length should be at least 3). If the given string already ends with 'ing', add 'ly' instead. If the string length of the given string is less than 3, leave it unchanged. (Sample String : 'abc'\n",
    "Expected Result : 'abcing')"
   ]
  },
  {
   "cell_type": "code",
   "execution_count": null,
   "id": "7ff8cec4",
   "metadata": {},
   "outputs": [],
   "source": [
    "x= input(\"enter the st\")\n",
    "if len(x) < 3:\n",
    "    print(x)\n",
    "else:\n",
    "    if x[-3:]==\"ing\":\n",
    "        print(x +\"ly\")\n",
    "    else:\n",
    "        print(x+\"ing\")\n",
    "        "
   ]
  },
  {
   "cell_type": "markdown",
   "id": "1c0a6627",
   "metadata": {},
   "source": [
    "**4-Write a Python function that takes a list of words and return the longest word and the length of the longest one\n",
    "(Longest word: Exercises\n",
    "Length of the longest word: 9)"
   ]
  },
  {
   "cell_type": "code",
   "execution_count": null,
   "id": "397341d9",
   "metadata": {},
   "outputs": [],
   "source": [
    "l=[\"ahmed\",\"mohamed\",\"amr\",\"sherif\"]\n",
    "def returnword():\n",
    "    counter = 0\n",
    "    maxword = None\n",
    "    for word in l:\n",
    "        if len(word) > counter:\n",
    "        counter= len(word)\n",
    "        maxword = word\n",
    "        \n",
    "    return counter, maxword\n",
    "\n",
    "returnword()\n",
    "\n"
   ]
  },
  {
   "cell_type": "markdown",
   "id": "53a03a6a",
   "metadata": {},
   "source": [
    "**5-Write a Python program to change a given string to a newly string where the first and last chars have been exchanged using 2 ways (Sample String:abca  Expected Result:ebce)"
   ]
  },
  {
   "cell_type": "code",
   "execution_count": null,
   "id": "fd327d2a",
   "metadata": {},
   "outputs": [],
   "source": [
    "name= input()\n",
    "print(name[-1]+ name[1:-1] + name[0])"
   ]
  },
  {
   "cell_type": "code",
   "execution_count": null,
   "id": "285788b4",
   "metadata": {},
   "outputs": [],
   "source": [
    "name= input()\n",
    "a=name[0]\n",
    "b=nmae[-1]\n",
    "print(b+name[1:-1]+a)"
   ]
  },
  {
   "cell_type": "markdown",
   "id": "25f89808",
   "metadata": {},
   "source": [
    "**6-Write a Python program to remove characters that have odd index values in a given string (Sample String:abca Expected Result:ac)"
   ]
  },
  {
   "cell_type": "code",
   "execution_count": null,
   "id": "05959bd7",
   "metadata": {},
   "outputs": [],
   "source": [
    "name = \"sherif mohamed \"\n",
    "print(name[0::2])"
   ]
  },
  {
   "cell_type": "markdown",
   "id": "eb16e898",
   "metadata": {},
   "source": [
    "**7-Write a Python program to count the occurrences of each word in a given sentence (Sample String:amr and ahmed are frindes but amr is the tallest Expected Result:2)"
   ]
  },
  {
   "cell_type": "code",
   "execution_count": null,
   "id": "01ce6cf5",
   "metadata": {},
   "outputs": [],
   "source": [
    "word =\"hallo People , I play M M A \"\n",
    "words=string.split()\n",
    "for i in words:\n",
    "    print(i,word.count(i))"
   ]
  },
  {
   "cell_type": "markdown",
   "id": "4e8125f1",
   "metadata": {},
   "source": [
    "**8-Write a Python script that takes input from the user and displays that input back in upper and lower cases"
   ]
  },
  {
   "cell_type": "code",
   "execution_count": null,
   "id": "66c8f778",
   "metadata": {},
   "outputs": [],
   "source": [
    "name= input(\"Enter  name please \")\n",
    "print(name.upper())\n",
    "print(name.lower())"
   ]
  },
  {
   "cell_type": "markdown",
   "id": "fcd68aa1",
   "metadata": {},
   "source": [
    "**9-Write a Python function to reverse a string if its length is a multiple of 4"
   ]
  },
  {
   "cell_type": "code",
   "execution_count": 1,
   "id": "0671a931",
   "metadata": {},
   "outputs": [
    {
     "name": "stdout",
     "output_type": "stream",
     "text": [
      "name please!sherif amar\n",
      "sherif amar\n"
     ]
    }
   ],
   "source": [
    "name = input(\"name please\")\n",
    "if len(name)% 4==0 :\n",
    "    print(name[::-1])\n",
    "else:\n",
    "    print(name)\n"
   ]
  },
  {
   "cell_type": "markdown",
   "id": "b577c68d",
   "metadata": {},
   "source": [
    "**10- Write a Python program to remove a newline in Python"
   ]
  },
  {
   "cell_type": "code",
   "execution_count": null,
   "id": "e0c6525a",
   "metadata": {},
   "outputs": [],
   "source": [
    "string = \"\"\"sherif\n",
    "mohamed\n",
    "amar\n",
    "\"\"\"\n",
    "string = string.replace(\"\\n\",\" \")\n",
    "\n",
    "string\n"
   ]
  },
  {
   "cell_type": "markdown",
   "id": "80db5ae0",
   "metadata": {},
   "source": [
    "**11-Write a Python program to check whether a string starts with specified characters"
   ]
  },
  {
   "cell_type": "code",
   "execution_count": null,
   "id": "0cc4e03e",
   "metadata": {},
   "outputs": [],
   "source": [
    "name=input(\"enter your name\")\n",
    "ch =\"A\"\n",
    "if name.stratswith(ch):\n",
    "    print(\"yes\")\n",
    "else:\n",
    "    print(\"no\")\n",
    "\n",
    "if name[0] == ch:\n",
    "    print(\"okay\")\n",
    "else:\n",
    "    print(\"no okay\")"
   ]
  },
  {
   "cell_type": "markdown",
   "id": "593a68db",
   "metadata": {},
   "source": [
    "**12- Write a Python program to add prefix text to all of the lines in a string"
   ]
  },
  {
   "cell_type": "code",
   "execution_count": null,
   "id": "d2e46ada",
   "metadata": {},
   "outputs": [],
   "source": [
    "name = '''sherif is the best\n",
    "ahmed is the leader\n",
    "amar is very good\n",
    "'''\n",
    "lines = name.splitlines()\n",
    "for line in lines:\n",
    "    print(\"eng.\",line)"
   ]
  },
  {
   "cell_type": "markdown",
   "id": "86fa1543",
   "metadata": {},
   "source": [
    "**13-Write a Python program to print the following numbers up to 2 decimal places"
   ]
  },
  {
   "cell_type": "code",
   "execution_count": null,
   "id": "cd4a9d89",
   "metadata": {},
   "outputs": [],
   "source": [
    "number = 2.6548\n",
    "round(number, 2)"
   ]
  },
  {
   "cell_type": "markdown",
   "id": "452c0ab0",
   "metadata": {},
   "source": [
    "**14-Write a Python program to print the following numbers up to 2 decimal places with a sign"
   ]
  },
  {
   "cell_type": "code",
   "execution_count": null,
   "id": "73e82479",
   "metadata": {},
   "outputs": [],
   "source": [
    "x = 5.4572545\n",
    "y = -9.557485\n",
    "print(\"\\nOriginal Number: \", x)\n",
    "print(\"Formatted Number with sign: \"+\"{:+.2f}\".format(x));\n",
    "print(\"Original Number: \", y)\n",
    "print(\"Formatted Number with sign: \"+\"{:+.2f}\".format(y));\n",
    "print()"
   ]
  },
  {
   "cell_type": "markdown",
   "id": "32b1811a",
   "metadata": {},
   "source": [
    "**15-Write a Python program to display a number with a comma separator"
   ]
  },
  {
   "cell_type": "code",
   "execution_count": null,
   "id": "f30fc0b6",
   "metadata": {},
   "outputs": [],
   "source": [
    "number = 18.54\n",
    "newnamber = str(number)\n",
    "newnamber.replace(\".\",\",\")\n"
   ]
  },
  {
   "cell_type": "markdown",
   "id": "0477f487",
   "metadata": {},
   "source": [
    "**16-Write a Python program to reverse a string using 2 ways"
   ]
  },
  {
   "cell_type": "code",
   "execution_count": null,
   "id": "aa8beec8",
   "metadata": {},
   "outputs": [],
   "source": [
    "name = \"sherif mohamed amar\"\n",
    "reversedname = name[::-1]\n",
    "reversedname"
   ]
  },
  {
   "cell_type": "code",
   "execution_count": null,
   "id": "0c647a64",
   "metadata": {},
   "outputs": [],
   "source": [
    "name = \"sherif mohamed mahmoud amar\"[::-1]\n",
    "print(name)"
   ]
  },
  {
   "cell_type": "markdown",
   "id": "5afc3166",
   "metadata": {},
   "source": [
    " **17-Write a Python program to count repeated characters in a string (hint:use dictionary)"
   ]
  },
  {
   "cell_type": "code",
   "execution_count": null,
   "id": "515a469c",
   "metadata": {},
   "outputs": [],
   "source": [
    "name = \"sherif amar\"\n",
    "chs = []\n",
    "for i in name:\n",
    "    chs.append(i)\n",
    "mydic =dict()\n",
    "for i in chs:\n",
    "    mydic[i] = name.count(i)\n",
    "mydic"
   ]
  },
  {
   "cell_type": "markdown",
   "id": "ae14e4e5",
   "metadata": {},
   "source": [
    "**18-Write a Python program to find the first non-repeating character in a given string"
   ]
  },
  {
   "cell_type": "code",
   "execution_count": null,
   "id": "d73778e5",
   "metadata": {},
   "outputs": [],
   "source": [
    "name = \"el shekh zayed\"\n",
    "for i in name:\n",
    "    if name.count(i) == 1:\n",
    "        print(i)\n",
    "        break"
   ]
  },
  {
   "cell_type": "markdown",
   "id": "3adf5669",
   "metadata": {},
   "source": [
    "**19-Write a Python program to remove spaces from a given string"
   ]
  },
  {
   "cell_type": "code",
   "execution_count": null,
   "id": "b4f22602",
   "metadata": {},
   "outputs": [],
   "source": [
    "name = \"sherif mohamed amar\"\n",
    "newname=name.replace(\" \",\"\")\n",
    "newname"
   ]
  },
  {
   "cell_type": "markdown",
   "id": "734de60c",
   "metadata": {},
   "source": [
    "**20-Write a Python program to count the number of non-empty substrings of a given string"
   ]
  },
  {
   "cell_type": "code",
   "execution_count": null,
   "id": "ef3f2274",
   "metadata": {},
   "outputs": [],
   "source": [
    "def number_of_substrings(str): \n",
    "    str_len = len(str); \n",
    "    return int(str_len * (str_len + 1) / 2); \n",
    "\n",
    "str1 = input(\"Input a string: \")\n",
    "print(\"Number of substrings:\") \n",
    "print(number_of_substrings(str1))"
   ]
  },
  {
   "cell_type": "markdown",
   "id": "509998e2",
   "metadata": {},
   "source": [
    "**21-write a Python program to swap first and last element of any list."
   ]
  },
  {
   "cell_type": "code",
   "execution_count": null,
   "id": "68692d7f",
   "metadata": {},
   "outputs": [],
   "source": [
    "x = [\"Ahmed\",\"omar\",\"saad\"]\n",
    "x[0] , x[-1] =x[-1] ,x[0]\n",
    "x\n"
   ]
  },
  {
   "cell_type": "markdown",
   "id": "959e0837",
   "metadata": {},
   "source": [
    "**22-Given a list in Python and provided the positions of the elements, write a program to swap the two elements in the list. (Input : List = [23, 65, 19, 90], pos1 = 1, pos2 = 3\n",
    "Output : [19, 65, 23, 90])"
   ]
  },
  {
   "cell_type": "code",
   "execution_count": 25,
   "id": "225d8c6d",
   "metadata": {},
   "outputs": [
    {
     "name": "stdout",
     "output_type": "stream",
     "text": [
      "enter number2\n",
      "enter number3\n"
     ]
    }
   ],
   "source": [
    "l = [23,65,19,90]\n",
    "pos1 = int(input(\"enter number\"))\n",
    "pos2 = int(input(\"enter number\"))\n",
    "l[pos1] ,l[pos2] = l[pos2] ,l[pos1]"
   ]
  },
  {
   "cell_type": "markdown",
   "id": "66fc6682",
   "metadata": {},
   "source": [
    "**23- search for the all ways to know the length of the list"
   ]
  },
  {
   "cell_type": "code",
   "execution_count": null,
   "id": "74e3ab76",
   "metadata": {},
   "outputs": [],
   "source": [
    "l = [10, 20, 30]\n",
    "n = len(li)\n",
    "print(\"The length of list is: \", n)"
   ]
  },
  {
   "cell_type": "code",
   "execution_count": null,
   "id": "1f041df3",
   "metadata": {},
   "outputs": [],
   "source": [
    "\n",
    "test_list = [1, 4, 5, 7, 8]\n",
    " \n",
    "print(\"The list is : \" + str(test_list))\n",
    " \n",
    "counter = 0\n",
    "for i in test_list:\n",
    " \n",
    "    counter = counter + 1\n",
    "    print(\"Length of list using naive method is : \" + str(counter))\n"
   ]
  },
  {
   "cell_type": "code",
   "execution_count": null,
   "id": "64350f8a",
   "metadata": {},
   "outputs": [],
   "source": [
    "list1 = [1, 4, 5, 7, 8]\n",
    "s = 0\n",
    "for i, a in enumerate(list1):\n",
    "    s += 1\n",
    "print(s)"
   ]
  },
  {
   "cell_type": "markdown",
   "id": "dd20393d",
   "metadata": {},
   "source": [
    "**24-write a Python code to find the Maximum number of list of numbers.\n"
   ]
  },
  {
   "cell_type": "code",
   "execution_count": null,
   "id": "15f342de",
   "metadata": {},
   "outputs": [],
   "source": [
    "max([2,5,6,49,85,100,501])"
   ]
  },
  {
   "cell_type": "markdown",
   "id": "dff6d98b",
   "metadata": {},
   "source": [
    "**25-write a Python code to find the Minimum number of list of numbers.\n"
   ]
  },
  {
   "cell_type": "code",
   "execution_count": null,
   "id": "21f8cbd6",
   "metadata": {},
   "outputs": [],
   "source": [
    "min([15,2,6,97,0])"
   ]
  },
  {
   "cell_type": "markdown",
   "id": "96822d96",
   "metadata": {},
   "source": [
    "**26-search for if an elem is existing in list"
   ]
  },
  {
   "cell_type": "code",
   "execution_count": null,
   "id": "51ca5c9a",
   "metadata": {},
   "outputs": [],
   "source": [
    "lst=[ 1, 6, 3, 5, 3, 4 ]\n",
    "\n",
    "i=7\n",
    "\n",
    "if i in lst:\n",
    "    print(\"exist\")\n",
    "else:\n",
    "    print(\"not exist\")"
   ]
  },
  {
   "cell_type": "markdown",
   "id": "d9557da7",
   "metadata": {},
   "source": [
    "**27- clear python list using different ways"
   ]
  },
  {
   "cell_type": "code",
   "execution_count": 16,
   "id": "b69858a3",
   "metadata": {},
   "outputs": [
    {
     "data": {
      "text/plain": [
       "[]"
      ]
     },
     "execution_count": 16,
     "metadata": {},
     "output_type": "execute_result"
    }
   ],
   "source": [
    "l =[1,2,8,9,6]\n",
    "l.clear()\n",
    "l"
   ]
  },
  {
   "cell_type": "markdown",
   "id": "52160e88",
   "metadata": {},
   "source": [
    "**28-remove duplicated elements from a list"
   ]
  },
  {
   "cell_type": "code",
   "execution_count": 17,
   "id": "5e362228",
   "metadata": {},
   "outputs": [
    {
     "data": {
      "text/plain": [
       "[1, 2, 6, 8, 9]"
      ]
     },
     "execution_count": 17,
     "metadata": {},
     "output_type": "execute_result"
    }
   ],
   "source": [
    "l =[1,2,8,9,6,1,1]\n",
    "l=set(l)\n",
    "l=list(l)\n",
    "l"
   ]
  },
  {
   "cell_type": "markdown",
   "id": "282337f7",
   "metadata": {},
   "source": [
    "**29-Given list values and keys list, convert these values to key value pairs in form of list of dictionaries. (Input : test_list = [“Gfg”, 3, “is”, 8], key_list = [“name”, “id”]\n",
    "Output : [{‘name’: ‘Gfg’, ‘id’: 3}, {‘name’: ‘is’, ‘id’: 8}])"
   ]
  },
  {
   "cell_type": "code",
   "execution_count": null,
   "id": "4d4e2d28",
   "metadata": {},
   "outputs": [],
   "source": [
    "{\n",
    "    \"test_lis\"[“Gfg”, 3, “is”, 8], key_list = [“name”, “id”] Output : [{‘name’: ‘Gfg’, ‘id’: 3}, {‘name’: ‘is’, ‘id’: 8}])\n",
    "}"
   ]
  },
  {
   "cell_type": "markdown",
   "id": "c26b6e9f",
   "metadata": {},
   "source": [
    "**30-write a python program to count unique values inside a list using different ways"
   ]
  },
  {
   "cell_type": "code",
   "execution_count": null,
   "id": "72132667",
   "metadata": {},
   "outputs": [],
   "source": [
    "input_list = [1, 2, 2, 5, 8, 4, 4, 8]\n",
    " \n",
    "l1 = []\n",
    " \n",
    "count = 0\n",
    "for item in input_list:\n",
    "    if item not in l1:\n",
    "        count += 1\n",
    "        l1.append(item)\n",
    "    print(\"No of unique items are:\", count)"
   ]
  },
  {
   "cell_type": "markdown",
   "id": "fed6677c",
   "metadata": {},
   "source": [
    "**31-write a python program Extract all elements with Frequency greater than K (Input : test_list = [4, 6, 4, 3, 3, 4, 3, 4, 3, 8], K = 3 \n",
    "Output : [4, 3] )"
   ]
  },
  {
   "cell_type": "code",
   "execution_count": null,
   "id": "d81f3f9d",
   "metadata": {},
   "outputs": [],
   "source": [
    "test_list = [4, 6, 4, 3, 3, 4, 3, 7, 8, 8]\n",
    "K = int(input())\n",
    "res = []\n",
    "for i in test_list:  \n",
    "    freq = test_list.count(i)\n",
    "    if freq > K and i not in res:\n",
    "        res.append(i)\n",
    "print(\"The required elements : \" + str(res))\n"
   ]
  },
  {
   "cell_type": "markdown",
   "id": "caca5224",
   "metadata": {},
   "source": [
    "**32-write a python program to find the Strongest Neighbour (Input: 1 2 2 3 4 5\n",
    "Output: 2 2 3 4 5)"
   ]
  },
  {
   "cell_type": "code",
   "execution_count": null,
   "id": "39fbd9b2",
   "metadata": {},
   "outputs": [],
   "source": [
    "\n",
    "def mar(arr1, n):\n",
    "    arr2 = [] \n",
    "    for i in range(1, n):\n",
    "        r = max(arr1[i], arr1[i-1])\n",
    "        arr2.append(r)\n",
    "    for ele in arr2 :\n",
    "        print(ele,end=\" \")\n",
    "if __name__ == \"__main__\" :\n",
    "   \n",
    "    n = 6 \n",
    "arr1 = [1,2,2,3,4,5]\n",
    "   \n",
    "mar(arr1, n)"
   ]
  },
  {
   "cell_type": "markdown",
   "id": "a9fa8baf",
   "metadata": {},
   "source": [
    "**33-write a Python Program to print all Possible Combinations from the three Digits (Input: [1, 2, 3]\n",
    "Output:\n",
    "1 2 3 ##\n",
    "1 3 2 ##\n",
    "2 1 3 ##\n",
    "2 3 1 ##\n",
    "3 1 2 ##\n",
    "3 2 1)"
   ]
  },
  {
   "cell_type": "code",
   "execution_count": null,
   "id": "8c520a76",
   "metadata": {},
   "outputs": [],
   "source": [
    "\n",
    "from itertools import permutations\n",
    "  \n",
    "comb = permutations([1, 2, 3], 3)\n",
    "  \n",
    "for i in comb:\n",
    "    \n",
    "    print(i)\n",
    "    "
   ]
  },
  {
   "cell_type": "markdown",
   "id": "5288bb89",
   "metadata": {},
   "source": [
    "**34-write a Python program to find all the Combinations in the list with the given condition (Input: test_list = [1,2,3] \n",
    "Output: \n",
    " [1], [1, 2], [1, 2, 3], [1, 3]\n",
    " [2], [2, 3], [3])**"
   ]
  },
  {
   "cell_type": "code",
   "execution_count": null,
   "id": "59b89646",
   "metadata": {},
   "outputs": [],
   "source": [
    "from itertools import combinations\n",
    "test = [1,2,3]\n",
    "idx=0\n",
    "temp = combinations(test, 2)\n",
    "for i in list(temp):\n",
    "    idx = idx+1\n",
    "    print (\"Combination\", idx, \": \", i)"
   ]
  },
  {
   "cell_type": "markdown",
   "id": "39973705",
   "metadata": {},
   "source": [
    "**35-write a Python program to get all unique combinations of two Lists (List_1 = [\"a\",\"b\"]\n",
    "List_2 = [1,2]\n",
    "Unique_combination = [[('a',1),('b',2)],[('a',2),('b',1)]] )"
   ]
  },
  {
   "cell_type": "code",
   "execution_count": 53,
   "id": "8c4ba22b",
   "metadata": {},
   "outputs": [
    {
     "name": "stdout",
     "output_type": "stream",
     "text": [
      "[('a', 1), ('a', 2), ('b', 1), ('b', 2)]\n"
     ]
    }
   ],
   "source": [
    "\n",
    "list_1 = [\"a\", \"b\"]\n",
    "list_2 = [1,2]\n",
    " \n",
    "unique_combinations = []\n",
    " \n",
    "for i in range(len(list_1)):\n",
    "    for j in range(len(list_2)):\n",
    "        unique_combinations.append((list_1[i], list_2[j]))\n",
    "\n",
    "print(unique_combinations)"
   ]
  },
  {
   "cell_type": "markdown",
   "id": "25199af5",
   "metadata": {},
   "source": [
    "**36-Remove all the occurrences of an element from a list in Python (Input : 1 1 2 3 4 5 1 2 1 \n",
    "\n",
    "**Output : 2 3 4 5 2)"
   ]
  },
  {
   "cell_type": "code",
   "execution_count": 54,
   "id": "6dc4c2ba",
   "metadata": {},
   "outputs": [
    {
     "name": "stdout",
     "output_type": "stream",
     "text": [
      "[2, 3, 4, 5, 2]\n"
     ]
    }
   ],
   "source": [
    "test_list = [1, 1, 2, 3, 4, 5, 1, 2, 1]\n",
    "z=1\n",
    "x=[i for i in test_list if i!=z]\n",
    "print(x)"
   ]
  },
  {
   "cell_type": "markdown",
   "id": "bf1a3c93",
   "metadata": {},
   "source": [
    "**37-write a python program to Replace index elements with elements in Other List (The original list 1 is : [‘Gfg’, ‘is’, ‘best’] The original list 2 is : [0, 1, 2, 1, 0, 0, 0, 2, 1, 1, 2, 0] The lists after index elements replacements is : [‘Gfg’, ‘is’, ‘best’, ‘is’, ‘Gfg’, ‘Gfg’, ‘Gfg’, ‘best’, ‘is’, ‘is’, ‘best’, ‘Gfg’])"
   ]
  },
  {
   "cell_type": "code",
   "execution_count": null,
   "id": "fdd66a71",
   "metadata": {},
   "outputs": [],
   "source": [
    "\n",
    "test_list1 = ['sherif', 'is', 'best']\n",
    "test_list2 = [0, 1, 2, 1, 0, 0, 0, 2, 1, 1, 2, 0]\n",
    " \n",
    "print(\"The list 1 is : \" + str(test_list1))\n",
    "print(\"The list 2 is : \" + str(test_list2))\n",
    " \n",
    "\n",
    "res = [test_list1[idx] for idx in test_list2]\n",
    "             \n",
    "\n",
    "print (\"The lists after index elements replacements is : \" + str(res))"
   ]
  },
  {
   "cell_type": "markdown",
   "id": "af0f56e8",
   "metadata": {},
   "source": [
    "**38- write python program to Retain records with N occurrences of K(Input : test_list = [(4, 5, 5, 4), (5, 4, 3)], K = 5, N = 2 \n",
    "Output : [(4, 5, 5, 4)]\n",
    "Input : test_list = [(4, 5, 5, 4), (5, 4, 3)], K = 5, N = 3 \n",
    "Output : [] )"
   ]
  },
  {
   "cell_type": "code",
   "execution_count": null,
   "id": "67b06671",
   "metadata": {},
   "outputs": [],
   "source": [
    "\n",
    "test_list = [(4, 5, 5, 4), (5, 4, 3), (4, 4, 4), (3, 4, 9)]\n",
    " \n",
    "\n",
    "print(\"The original list is : \" + str(test_list))\n",
    " \n",
    "\n",
    "K = 5\n",
    " \n",
    "\n",
    "N = 2\n",
    " \n",
    "res = [ele for ele in test_list if ele.count(K) == N]\n",
    " \n",
    "print(\"Filtered tuples : \" + str(res))\n",
    "\n",
    "K = 5\n",
    " \n",
    "N = 3\n",
    " \n",
    "res = [ele for ele in test_list if ele.count(K) == N]\n",
    " \n",
    "print(\"Filtered tuples : \" + str(res))"
   ]
  },
  {
   "cell_type": "markdown",
   "id": "de76f183",
   "metadata": {},
   "source": [
    "**39-write a Python Program to Sort the list according to the column using lambda\n",
    "array = [[1, 3, 3], [2, 1, 2], [3, 2, 1]]\n",
    "Output :\n",
    "Sorted array specific to column 0, [[1, 3, 3], [2, 1, 2], [3, 2, 1]]\n",
    "Sorted array specific to column 1, [[2, 1, 2], [3, 2, 1], [1, 3, 3]]\n",
    "Sorted array specific to column 2, [[3, 2, 1], [2, 1, 2], [1, 3, 3]]"
   ]
  },
  {
   "cell_type": "code",
   "execution_count": null,
   "id": "dc883308",
   "metadata": {},
   "outputs": [],
   "source": [
    "def sortarray(array):\n",
    "     \n",
    "    for i in range(len(array[0])):\n",
    "         \n",
    "       \n",
    "        sortedcolumn = sorted(array, key = lambda x:x[i])\n",
    "         \n",
    "       \n",
    "        print(\"Sorted array specific to column {}, \\\n",
    "        {}\".format(i, sortedcolumn))\n",
    "     \n",
    "\n",
    "if __name__ == '__main__':\n",
    "     \n",
    "    array = [['java', 1995], ['c++', 1983],\n",
    "             ['python', 1989]]\n",
    "     \n",
    "    sortarray(array)"
   ]
  },
  {
   "cell_type": "markdown",
   "id": "ae6033b5",
   "metadata": {},
   "source": [
    "\n",
    "40- write a program to Sort Python Dictionaries by Key or Value\n"
   ]
  },
  {
   "cell_type": "code",
   "execution_count": null,
   "id": "aabd29db",
   "metadata": {},
   "outputs": [],
   "source": [
    "Input:\n",
    "{'ravi': 10, 'rajnish': 9, 'sanjeev': 15, 'yash': 2, 'suraj': 32}\n",
    "\n",
    "Output: \n",
    "{'rajnish': 9, 'ravi': 10, 'sanjeev': 15, 'suraj': 32, 'yash': 2}\n",
    "\n"
   ]
  },
  {
   "cell_type": "code",
   "execution_count": null,
   "id": "a96db4a0",
   "metadata": {},
   "outputs": [],
   "source": [
    "myDict = {'ravi': 10, 'rajnish': 9,'sanjeev': 15, 'yash': 2, 'suraj': 32}\n",
    " \n",
    "myKeys = list(myDict.keys())\n",
    "myKeys.sort()\n",
    "sortedd = {i: myDict[i] for i in myKeys}\n",
    " \n",
    "print(sortedd)"
   ]
  },
  {
   "cell_type": "markdown",
   "id": "ec63c23a",
   "metadata": {},
   "source": [
    "**41-write python program to Remove keys with Values Greater than K ( Including mixed values )\n",
    "nput : test_dict = {‘Gfg’ : 3, ‘is’ : 7, ‘best’ : 10, ‘for’ : 6, ‘geeks’ : ‘CS’},\n",
    "K = 7 \n",
    "Output : {‘Gfg’ : 3, ‘for’ : 6, ‘geeks’ : ‘CS’}"
   ]
  },
  {
   "cell_type": "code",
   "execution_count": null,
   "id": "e39c3a40",
   "metadata": {},
   "outputs": [],
   "source": [
    "\n",
    "test_dict = {'a' : 3, 'is' : 7, 'b' : 10, 'c' : 6, 'd' : '10'}\n",
    " \n",
    "print(\"The original dictionary is : \" + str(test_dict))\n",
    " \n",
    "K = 6\n",
    " \n",
    "res = {key : val for key, val in test_dict.items() if not (isinstance(val, int) and (val > K))}\n",
    "         \n",
    "print(\"The constructed dictionary : \" + str(res))"
   ]
  },
  {
   "cell_type": "markdown",
   "id": "f143f0fe",
   "metadata": {},
   "source": [
    "**42-Write a Python program to concatenate the following dictionaries to create a new one\n",
    "\n",
    "Sample Dictionary :\n",
    "dic1={1:10, 2:20}\n",
    "dic2={3:30, 4:40}\n",
    "dic3={5:50,6:60}\n",
    "Expected Result : {1: 10, 2: 20, 3: 30, 4: 40, 5: 50, 6: 60}"
   ]
  },
  {
   "cell_type": "code",
   "execution_count": null,
   "id": "74ffdfea",
   "metadata": {},
   "outputs": [],
   "source": [
    "dic1={1:10, 2:20}\n",
    "dic2={3:30, 4:40}\n",
    "dic3={5:50,6:60}\n",
    "dic4 = {}\n",
    "for d in (dic1, dic2, dic3):\n",
    "    dic4.update(d)\n",
    "print(dic4)"
   ]
  },
  {
   "cell_type": "markdown",
   "id": "fb04c93c",
   "metadata": {},
   "source": [
    "**43-Write a Python program to iterate over dictionaries using for loops"
   ]
  },
  {
   "cell_type": "code",
   "execution_count": null,
   "id": "6aebc470",
   "metadata": {},
   "outputs": [],
   "source": [
    "\n",
    " \n",
    "Example = { 'w': 'g', 'm': 'o', 'a': 'r', 'B': 'u'}\n",
    " \n",
    "print('List Of given capitals:\\n')\n",
    " \n",
    "for i in Example.values():\n",
    "    print(i)"
   ]
  },
  {
   "cell_type": "markdown",
   "id": "5f491a9d",
   "metadata": {},
   "source": [
    "**44- Write a Python script to merge two Python dictionaries"
   ]
  },
  {
   "cell_type": "code",
   "execution_count": null,
   "id": "b8a14028",
   "metadata": {},
   "outputs": [],
   "source": [
    "def Merge(dict1, dict2):\n",
    "    res = {**dict1, **dict2}\n",
    "    return res\n",
    "dict1 = {'a': 10, 'b': 8}\n",
    "dict2 = {'d': 6, 'c': 4}\n",
    "dict3 = Merge(dict1, dict2)\n",
    "print(dict3)"
   ]
  },
  {
   "cell_type": "markdown",
   "id": "216fc72d",
   "metadata": {},
   "source": [
    "**45-Write a Python program to get the maximum and minimum values of a dictionary values"
   ]
  },
  {
   "cell_type": "code",
   "execution_count": null,
   "id": "d6883f5f",
   "metadata": {},
   "outputs": [],
   "source": [
    "\n",
    "playlist = {'Xbox':100, 'PS5':1292, 'PS4' : 888}\n",
    " \n",
    "xmax = max(playlist, key= lambda x:playlist[x])\n",
    "print(xmax)"
   ]
  },
  {
   "cell_type": "markdown",
   "id": "b6a53011",
   "metadata": {},
   "source": [
    "**46- Write a Python program to drop empty items from a given dictionary.\n",
    "Original Dictionary:\n",
    "{'c1': 'Red', 'c2': 'Green', 'c3': None}\n",
    "New Dictionary after dropping empty items:\n",
    "{'c1': 'Red', 'c2': 'Green'}"
   ]
  },
  {
   "cell_type": "code",
   "execution_count": null,
   "id": "b5c6fecf",
   "metadata": {},
   "outputs": [],
   "source": [
    "dict1 = {'c1': 'Red', 'c2': 'Green', 'c3':None}\n",
    "print(\"Original Dictionary:\")\n",
    "print(dict1)\n",
    "print(\"New Dictionary after dropping empty items:\")\n",
    "dict1 = {key:value for (key, value) in dict1.items() if value is not None}\n",
    "print(dict1)"
   ]
  },
  {
   "cell_type": "markdown",
   "id": "46d718c7",
   "metadata": {},
   "source": [
    "**47-Write a Python program to create a tuple of numbers and print one item"
   ]
  },
  {
   "cell_type": "code",
   "execution_count": null,
   "id": "13216ff5",
   "metadata": {},
   "outputs": [],
   "source": [
    "\n",
    "tuplex = 5, 10, 15, 20, 25\n",
    "print(tuplex)\n",
    "\n",
    "tuplex = 5,\n",
    "print(tuplex)"
   ]
  },
  {
   "cell_type": "markdown",
   "id": "2be5b56b",
   "metadata": {},
   "source": [
    "**48-Write a Python program to unpack a tuple into several variables"
   ]
  },
  {
   "cell_type": "code",
   "execution_count": null,
   "id": "595f44be",
   "metadata": {},
   "outputs": [],
   "source": [
    "\n",
    "tuplex = 4, 8, 3 \n",
    "print(tuplex)\n",
    "x, y, z= tuplex\n",
    "\n",
    "print(x + y + z) \n",
    "\n",
    "x ,y ,z = tuplex "
   ]
  },
  {
   "cell_type": "markdown",
   "id": "392388a7",
   "metadata": {},
   "source": [
    "**49-Write a Python program to add an item to a tuple"
   ]
  },
  {
   "cell_type": "code",
   "execution_count": null,
   "id": "54cc092e",
   "metadata": {},
   "outputs": [],
   "source": [
    "\n",
    "x = (4, 6, 2, 8, 3, 1) \n",
    "print(x)\n",
    "\n",
    "x = x + (9,)\n",
    "print(x)\n",
    "x = x[:5] + (15, 20, 25) +x[:5]\n",
    "print(x)\n",
    "listx = list(x) \n",
    "listx.append(30)\n",
    "x = tuple(listx)\n",
    "print(x)"
   ]
  },
  {
   "cell_type": "markdown",
   "id": "3e8fd124",
   "metadata": {},
   "source": [
    "**50-Write a Python program to convert a tuple to a string"
   ]
  },
  {
   "cell_type": "code",
   "execution_count": null,
   "id": "92a71ddc",
   "metadata": {},
   "outputs": [],
   "source": [
    "\n",
    "'''Input : ('H', 'e', 'l', 'l', 'o')\n",
    "Output : Hello'''\n",
    "def convert(tup):\n",
    "  \n",
    "    str = ''\n",
    "    for item in tup:\n",
    "        str = str + item\n",
    "    return str\n",
    " \n",
    "tuple = ('H', 'e', 'l', 'l', 'o')\n",
    "str = convert(tuple)\n",
    "print(str)"
   ]
  },
  {
   "cell_type": "markdown",
   "id": "f4f64ef4",
   "metadata": {},
   "source": [
    "**51-Write a Python program to convert a list to a tuple"
   ]
  },
  {
   "cell_type": "code",
   "execution_count": null,
   "id": "210d56d3",
   "metadata": {},
   "outputs": [],
   "source": [
    "def convert(list):\n",
    "    return tuple(list)\n",
    " \n",
    "\n",
    "list = [1, 2, 3, 4]\n",
    "print(convert(list))"
   ]
  },
  {
   "cell_type": "markdown",
   "id": "b1e00ef7",
   "metadata": {},
   "source": [
    "**52-Write a Python program to reverse a tuple"
   ]
  },
  {
   "cell_type": "code",
   "execution_count": null,
   "id": "f45bfdc7",
   "metadata": {},
   "outputs": [],
   "source": [
    "x = (\"w3resource\")\n",
    "\n",
    "y = reversed(x)\n",
    "print(tuple(y))\n",
    "\n",
    "x = (5, 10, 15, 20)\n",
    "\n",
    "y = reversed(x)\n",
    "print(tuple(y))"
   ]
  },
  {
   "cell_type": "markdown",
   "id": "3cd347d1",
   "metadata": {},
   "source": [
    "**53-Write a Python program to replace the last value of tuples in a list.\n",
    "Sample list: [(10, 20, 40), (40, 50, 60), (70, 80, 90)]\n",
    "Expected Output: [(10, 20, 100), (40, 50, 100), (70, 80, 100)]"
   ]
  },
  {
   "cell_type": "code",
   "execution_count": 40,
   "id": "3c4a2a4c",
   "metadata": {},
   "outputs": [
    {
     "name": "stdout",
     "output_type": "stream",
     "text": [
      "[(10, 20, 100), (40, 50, 100), (70, 80, 100)]\n"
     ]
    }
   ],
   "source": [
    "l = [(10, 20, 40), (40, 50, 60), (70, 80, 90)]\n",
    "print([i[:-1] + (100,) for i in l])"
   ]
  },
  {
   "cell_type": "markdown",
   "id": "76bb7b39",
   "metadata": {},
   "source": [
    "**54-Write a Python program to convert a given string list to a tuple\n",
    "Original string: python 3.0\n",
    "<class 'str'>\n",
    "Convert the said string to a tuple:\n",
    "('p', 'y', 't', 'h', 'o', 'n', '3', '.', '0')"
   ]
  },
  {
   "cell_type": "code",
   "execution_count": null,
   "id": "51951937",
   "metadata": {},
   "outputs": [],
   "source": [
    "def string_list_to_tuple(str1):\n",
    "    result = tuple(x for x in str1 if not x.isspace()) \n",
    "    return result\n",
    "str1 = \"python 3.0\"\n",
    "print(\"Original string:\")\n",
    "print(str1)\n",
    "print(type(str1))\n",
    "print(\"Convert the said string to a tuple:\") \n",
    "print(string_list_to_tuple(str1))\n",
    "print(type(string_list_to_tuple(str1)))\n"
   ]
  },
  {
   "cell_type": "markdown",
   "id": "5a1d5d97",
   "metadata": {},
   "source": [
    "**55-Write a Python program to calculate the average value of the numbers in a given tuple of tuples"
   ]
  },
  {
   "cell_type": "code",
   "execution_count": null,
   "id": "834e7992",
   "metadata": {},
   "outputs": [],
   "source": [
    "nums = ((10, 10, 10, 12), (30, 45, 56, 45), (81, 80, 39, 32), (1, 2, 3, 4))\n",
    "result = [sum(x) / len(x) for x in zip(*nums)]\n",
    "result"
   ]
  },
  {
   "cell_type": "markdown",
   "id": "51edab9c",
   "metadata": {},
   "source": [
    "**56-Write a Python program to add member(s) to a set."
   ]
  },
  {
   "cell_type": "code",
   "execution_count": null,
   "id": "2b65df79",
   "metadata": {},
   "outputs": [],
   "source": [
    "thisset = {\"apple\", \"banana\", \"cherry\"}\n",
    "\n",
    "thisset.add(\"orange\")\n",
    "\n",
    "print(thisset)"
   ]
  },
  {
   "cell_type": "markdown",
   "id": "965590cc",
   "metadata": {},
   "source": [
    "**57-Write a Python program to remove an item from a set if it is present in the set."
   ]
  },
  {
   "cell_type": "code",
   "execution_count": null,
   "id": "866bab28",
   "metadata": {},
   "outputs": [],
   "source": [
    "thisset = {\"apple\", \"banana\", \"cherry\"}\n",
    "\n",
    "thisset.remove(\"banana\")\n",
    "\n",
    "print(thisset)"
   ]
  },
  {
   "cell_type": "markdown",
   "id": "2b7cfed1",
   "metadata": {},
   "source": [
    "**58-Write a Python program to create an intersection,union,difference and symmetric difference of sets"
   ]
  },
  {
   "cell_type": "code",
   "execution_count": null,
   "id": "7f94b7fe",
   "metadata": {},
   "outputs": [],
   "source": [
    "\n",
    "A = {0, 2, 4, 6, 8};\n",
    "B = {1, 2, 3, 4, 5};\n",
    "  \n",
    "print(\"Union :\", A | B)\n",
    "  \n",
    "print(\"Intersection :\", A & B)\n",
    "  \n",
    "print(\"Difference :\", A - B)\n",
    "  \n",
    "print(\"Symmetric difference :\", A ^ B)"
   ]
  },
  {
   "cell_type": "markdown",
   "id": "b94931e2",
   "metadata": {},
   "source": [
    "**59-Write a Python program to find the maximum and minimum values in a set"
   ]
  },
  {
   "cell_type": "code",
   "execution_count": null,
   "id": "203f9600",
   "metadata": {},
   "outputs": [],
   "source": [
    "\n",
    "setn = {5, 10, 3, 15, 2, 20}\n",
    "print(\"Original set elements:\")\n",
    "print(setn)\n",
    "print(type(setn))\n",
    "print(\"\\nMaximum value of the said set:\")\n",
    "print(max(setn))\n",
    "print(\"\\nMinimum value of the said set:\")\n",
    "print(min(setn))"
   ]
  },
  {
   "cell_type": "markdown",
   "id": "255fd554",
   "metadata": {},
   "source": [
    "**60- Write a Python program that finds all pairs of elements in a list whose sum is equal to a given value."
   ]
  },
  {
   "cell_type": "code",
   "execution_count": null,
   "id": "c2d94e1f",
   "metadata": {},
   "outputs": [],
   "source": [
    "\n",
    "lst = [1, 5, 3, 7, 9]\n",
    "K = 12\n",
    "result = []\n",
    "seen = set()\n",
    " \n",
    "for num in lst:\n",
    "    complement = K - num\n",
    "    if complement in seen:\n",
    "        result.append((num, complement))\n",
    "    seen.add(num)\n",
    "print(result)"
   ]
  },
  {
   "cell_type": "code",
   "execution_count": null,
   "id": "c0c0c0cb",
   "metadata": {},
   "outputs": [],
   "source": [
    "def find_pairs(lst, K):\n",
    "    result = []\n",
    "    for i in range(len(lst)):\n",
    "        for j in range(i + 1, len(lst)):\n",
    "            if lst[i] + lst[j] == K:\n",
    "                result.append((lst[i], lst[j]))\n",
    "    return result\n",
    "lst = [1, 5, 3, 7, 9]\n",
    "K = 12\n",
    "print(find_pairs(lst, K))"
   ]
  },
  {
   "cell_type": "code",
   "execution_count": null,
   "id": "4bfbe81b",
   "metadata": {},
   "outputs": [],
   "source": [
    "\n",
    "\n",
    "from collections import Counter\n",
    " \n",
    "def findPairs(lst, K):\n",
    "    res = []\n",
    "    count = Counter(lst)\n",
    " \n",
    "    for x in lst:\n",
    "        y = K - x\n",
    "        if (x != y and count[y]) or (x == y and count[y] > 1):\n",
    "            res.append((x, y))\n",
    "            count.subtract((x, y))\n",
    "             \n",
    "    return res\n",
    "     \n",
    "\n",
    "lst = [1, 5, 3, 7, 9]\n",
    "K = 12\n",
    "print(findPairs(lst, K))"
   ]
  },
  {
   "cell_type": "code",
   "execution_count": null,
   "id": "aa62af26",
   "metadata": {},
   "outputs": [],
   "source": []
  },
  {
   "cell_type": "code",
   "execution_count": null,
   "id": "c213849d",
   "metadata": {},
   "outputs": [],
   "source": []
  },
  {
   "cell_type": "code",
   "execution_count": null,
   "id": "578671bb",
   "metadata": {},
   "outputs": [],
   "source": []
  }
 ],
 "metadata": {
  "kernelspec": {
   "display_name": "Python 3 (ipykernel)",
   "language": "python",
   "name": "python3"
  },
  "language_info": {
   "codemirror_mode": {
    "name": "ipython",
    "version": 3
   },
   "file_extension": ".py",
   "mimetype": "text/x-python",
   "name": "python",
   "nbconvert_exporter": "python",
   "pygments_lexer": "ipython3",
   "version": "3.11.3"
  }
 },
 "nbformat": 4,
 "nbformat_minor": 5
}
